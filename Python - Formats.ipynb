{
 "cells": [
  {
   "cell_type": "markdown",
   "id": "7af1db21",
   "metadata": {},
   "source": [
    "<h1 align=\\\"center\\\"><font color='green'><font size=\\\"6\\\"><b>Heading</b> </font> </h1>"
   ]
  },
  {
   "cell_type": "markdown",
   "id": "9b476afa",
   "metadata": {},
   "source": [
    "<div style=\"background-color: #90EE90;\">.</div>"
   ]
  },
  {
   "cell_type": "markdown",
   "id": "5edb949d",
   "metadata": {},
   "source": [
    "**Definition**: This is to bold only the heading in a line"
   ]
  },
  {
   "cell_type": "markdown",
   "id": "b84dbf28",
   "metadata": {},
   "source": [
    "<div class = \"alert alert-block alert-success\">\n",
    "     <font size = \"5\">\n",
    " Sub Heading"
   ]
  },
  {
   "cell_type": "markdown",
   "id": "61abaec8",
   "metadata": {},
   "source": [
    " <font size = \"5\">\n",
    "    font Size"
   ]
  },
  {
   "cell_type": "markdown",
   "id": "6136528f",
   "metadata": {},
   "source": [
    "<div class=\"alert alert-block alert-success\">  \n",
    "<font size =\"4\">\n",
    "- <b>Efficient:</b> Scrapy is designed to handle large amounts of data and can scrape multiple pages quickly.<br><br>\n",
    "- <b>Flexible:</b> You can customize how data is extracted and stored.<br><br>\n",
    "- <b>Built-in Tools:</b> It provides tools for handling requests, parsing responses, and saving data."
   ]
  },
  {
   "cell_type": "code",
   "execution_count": null,
   "id": "11e9f2b3",
   "metadata": {},
   "outputs": [],
   "source": [
    "import warnings\n",
    "warnings.filterwarnings(\"ignore\")"
   ]
  }
 ],
 "metadata": {
  "kernelspec": {
   "display_name": "Python 3 (ipykernel)",
   "language": "python",
   "name": "python3"
  },
  "language_info": {
   "codemirror_mode": {
    "name": "ipython",
    "version": 3
   },
   "file_extension": ".py",
   "mimetype": "text/x-python",
   "name": "python",
   "nbconvert_exporter": "python",
   "pygments_lexer": "ipython3",
   "version": "3.12.7"
  }
 },
 "nbformat": 4,
 "nbformat_minor": 5
}
